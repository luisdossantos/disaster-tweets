{
 "cells": [
  {
   "cell_type": "code",
   "execution_count": 1,
   "metadata": {},
   "outputs": [],
   "source": [
    "import pandas as pd\n",
    "import numpy as np\n",
    "import csv\n",
    "\n",
    "%matplotlib inline\n",
    "import matplotlib.pyplot as plt\n",
    "\n",
    "from sklearn.model_selection import train_test_split\n",
    "from sklearn.metrics import f1_score\n",
    "\n",
    "import nltk\n",
    "from nltk.corpus import stopwords\n",
    "# nltk.download('stopwords')\n",
    "from nltk.tokenize import word_tokenize\n",
    "# nltk.download('punkt')\n",
    "\n",
    "import spacy"
   ]
  },
  {
   "cell_type": "code",
   "execution_count": 2,
   "metadata": {},
   "outputs": [],
   "source": [
    "# Load data frames\n",
    "df_train = pd.read_csv('train.csv', sep=',')\n",
    "df_test = pd.read_csv('test.csv', sep=',')"
   ]
  },
  {
   "cell_type": "code",
   "execution_count": 3,
   "metadata": {},
   "outputs": [
    {
     "data": {
      "text/html": [
       "<div>\n",
       "<style scoped>\n",
       "    .dataframe tbody tr th:only-of-type {\n",
       "        vertical-align: middle;\n",
       "    }\n",
       "\n",
       "    .dataframe tbody tr th {\n",
       "        vertical-align: top;\n",
       "    }\n",
       "\n",
       "    .dataframe thead th {\n",
       "        text-align: right;\n",
       "    }\n",
       "</style>\n",
       "<table border=\"1\" class=\"dataframe\">\n",
       "  <thead>\n",
       "    <tr style=\"text-align: right;\">\n",
       "      <th></th>\n",
       "      <th>id</th>\n",
       "      <th>keyword</th>\n",
       "      <th>location</th>\n",
       "      <th>text</th>\n",
       "      <th>target</th>\n",
       "    </tr>\n",
       "  </thead>\n",
       "  <tbody>\n",
       "    <tr>\n",
       "      <th>0</th>\n",
       "      <td>1</td>\n",
       "      <td>NaN</td>\n",
       "      <td>NaN</td>\n",
       "      <td>Our Deeds are the Reason of this #earthquake M...</td>\n",
       "      <td>1</td>\n",
       "    </tr>\n",
       "    <tr>\n",
       "      <th>1</th>\n",
       "      <td>4</td>\n",
       "      <td>NaN</td>\n",
       "      <td>NaN</td>\n",
       "      <td>Forest fire near La Ronge Sask. Canada</td>\n",
       "      <td>1</td>\n",
       "    </tr>\n",
       "    <tr>\n",
       "      <th>2</th>\n",
       "      <td>5</td>\n",
       "      <td>NaN</td>\n",
       "      <td>NaN</td>\n",
       "      <td>All residents asked to 'shelter in place' are ...</td>\n",
       "      <td>1</td>\n",
       "    </tr>\n",
       "    <tr>\n",
       "      <th>3</th>\n",
       "      <td>6</td>\n",
       "      <td>NaN</td>\n",
       "      <td>NaN</td>\n",
       "      <td>13,000 people receive #wildfires evacuation or...</td>\n",
       "      <td>1</td>\n",
       "    </tr>\n",
       "    <tr>\n",
       "      <th>4</th>\n",
       "      <td>7</td>\n",
       "      <td>NaN</td>\n",
       "      <td>NaN</td>\n",
       "      <td>Just got sent this photo from Ruby #Alaska as ...</td>\n",
       "      <td>1</td>\n",
       "    </tr>\n",
       "    <tr>\n",
       "      <th>5</th>\n",
       "      <td>8</td>\n",
       "      <td>NaN</td>\n",
       "      <td>NaN</td>\n",
       "      <td>#RockyFire Update =&gt; California Hwy. 20 closed...</td>\n",
       "      <td>1</td>\n",
       "    </tr>\n",
       "    <tr>\n",
       "      <th>6</th>\n",
       "      <td>10</td>\n",
       "      <td>NaN</td>\n",
       "      <td>NaN</td>\n",
       "      <td>#flood #disaster Heavy rain causes flash flood...</td>\n",
       "      <td>1</td>\n",
       "    </tr>\n",
       "    <tr>\n",
       "      <th>7</th>\n",
       "      <td>13</td>\n",
       "      <td>NaN</td>\n",
       "      <td>NaN</td>\n",
       "      <td>I'm on top of the hill and I can see a fire in...</td>\n",
       "      <td>1</td>\n",
       "    </tr>\n",
       "    <tr>\n",
       "      <th>8</th>\n",
       "      <td>14</td>\n",
       "      <td>NaN</td>\n",
       "      <td>NaN</td>\n",
       "      <td>There's an emergency evacuation happening now ...</td>\n",
       "      <td>1</td>\n",
       "    </tr>\n",
       "    <tr>\n",
       "      <th>9</th>\n",
       "      <td>15</td>\n",
       "      <td>NaN</td>\n",
       "      <td>NaN</td>\n",
       "      <td>I'm afraid that the tornado is coming to our a...</td>\n",
       "      <td>1</td>\n",
       "    </tr>\n",
       "    <tr>\n",
       "      <th>10</th>\n",
       "      <td>16</td>\n",
       "      <td>NaN</td>\n",
       "      <td>NaN</td>\n",
       "      <td>Three people died from the heat wave so far</td>\n",
       "      <td>1</td>\n",
       "    </tr>\n",
       "    <tr>\n",
       "      <th>11</th>\n",
       "      <td>17</td>\n",
       "      <td>NaN</td>\n",
       "      <td>NaN</td>\n",
       "      <td>Haha South Tampa is getting flooded hah- WAIT ...</td>\n",
       "      <td>1</td>\n",
       "    </tr>\n",
       "    <tr>\n",
       "      <th>12</th>\n",
       "      <td>18</td>\n",
       "      <td>NaN</td>\n",
       "      <td>NaN</td>\n",
       "      <td>#raining #flooding #Florida #TampaBay #Tampa 1...</td>\n",
       "      <td>1</td>\n",
       "    </tr>\n",
       "    <tr>\n",
       "      <th>13</th>\n",
       "      <td>19</td>\n",
       "      <td>NaN</td>\n",
       "      <td>NaN</td>\n",
       "      <td>#Flood in Bago Myanmar #We arrived Bago</td>\n",
       "      <td>1</td>\n",
       "    </tr>\n",
       "    <tr>\n",
       "      <th>14</th>\n",
       "      <td>20</td>\n",
       "      <td>NaN</td>\n",
       "      <td>NaN</td>\n",
       "      <td>Damage to school bus on 80 in multi car crash ...</td>\n",
       "      <td>1</td>\n",
       "    </tr>\n",
       "  </tbody>\n",
       "</table>\n",
       "</div>"
      ],
      "text/plain": [
       "    id keyword location                                               text  \\\n",
       "0    1     NaN      NaN  Our Deeds are the Reason of this #earthquake M...   \n",
       "1    4     NaN      NaN             Forest fire near La Ronge Sask. Canada   \n",
       "2    5     NaN      NaN  All residents asked to 'shelter in place' are ...   \n",
       "3    6     NaN      NaN  13,000 people receive #wildfires evacuation or...   \n",
       "4    7     NaN      NaN  Just got sent this photo from Ruby #Alaska as ...   \n",
       "5    8     NaN      NaN  #RockyFire Update => California Hwy. 20 closed...   \n",
       "6   10     NaN      NaN  #flood #disaster Heavy rain causes flash flood...   \n",
       "7   13     NaN      NaN  I'm on top of the hill and I can see a fire in...   \n",
       "8   14     NaN      NaN  There's an emergency evacuation happening now ...   \n",
       "9   15     NaN      NaN  I'm afraid that the tornado is coming to our a...   \n",
       "10  16     NaN      NaN        Three people died from the heat wave so far   \n",
       "11  17     NaN      NaN  Haha South Tampa is getting flooded hah- WAIT ...   \n",
       "12  18     NaN      NaN  #raining #flooding #Florida #TampaBay #Tampa 1...   \n",
       "13  19     NaN      NaN            #Flood in Bago Myanmar #We arrived Bago   \n",
       "14  20     NaN      NaN  Damage to school bus on 80 in multi car crash ...   \n",
       "\n",
       "    target  \n",
       "0        1  \n",
       "1        1  \n",
       "2        1  \n",
       "3        1  \n",
       "4        1  \n",
       "5        1  \n",
       "6        1  \n",
       "7        1  \n",
       "8        1  \n",
       "9        1  \n",
       "10       1  \n",
       "11       1  \n",
       "12       1  \n",
       "13       1  \n",
       "14       1  "
      ]
     },
     "execution_count": 3,
     "metadata": {},
     "output_type": "execute_result"
    }
   ],
   "source": [
    "# Explore data set\n",
    "df_train.head(15)"
   ]
  },
  {
   "cell_type": "code",
   "execution_count": 4,
   "metadata": {},
   "outputs": [
    {
     "data": {
      "text/html": [
       "<div>\n",
       "<style scoped>\n",
       "    .dataframe tbody tr th:only-of-type {\n",
       "        vertical-align: middle;\n",
       "    }\n",
       "\n",
       "    .dataframe tbody tr th {\n",
       "        vertical-align: top;\n",
       "    }\n",
       "\n",
       "    .dataframe thead th {\n",
       "        text-align: right;\n",
       "    }\n",
       "</style>\n",
       "<table border=\"1\" class=\"dataframe\">\n",
       "  <thead>\n",
       "    <tr style=\"text-align: right;\">\n",
       "      <th></th>\n",
       "      <th>id</th>\n",
       "      <th>target</th>\n",
       "    </tr>\n",
       "  </thead>\n",
       "  <tbody>\n",
       "    <tr>\n",
       "      <th>count</th>\n",
       "      <td>7613.000000</td>\n",
       "      <td>7613.00000</td>\n",
       "    </tr>\n",
       "    <tr>\n",
       "      <th>mean</th>\n",
       "      <td>5441.934848</td>\n",
       "      <td>0.42966</td>\n",
       "    </tr>\n",
       "    <tr>\n",
       "      <th>std</th>\n",
       "      <td>3137.116090</td>\n",
       "      <td>0.49506</td>\n",
       "    </tr>\n",
       "    <tr>\n",
       "      <th>min</th>\n",
       "      <td>1.000000</td>\n",
       "      <td>0.00000</td>\n",
       "    </tr>\n",
       "    <tr>\n",
       "      <th>25%</th>\n",
       "      <td>2734.000000</td>\n",
       "      <td>0.00000</td>\n",
       "    </tr>\n",
       "    <tr>\n",
       "      <th>50%</th>\n",
       "      <td>5408.000000</td>\n",
       "      <td>0.00000</td>\n",
       "    </tr>\n",
       "    <tr>\n",
       "      <th>75%</th>\n",
       "      <td>8146.000000</td>\n",
       "      <td>1.00000</td>\n",
       "    </tr>\n",
       "    <tr>\n",
       "      <th>max</th>\n",
       "      <td>10873.000000</td>\n",
       "      <td>1.00000</td>\n",
       "    </tr>\n",
       "  </tbody>\n",
       "</table>\n",
       "</div>"
      ],
      "text/plain": [
       "                 id      target\n",
       "count   7613.000000  7613.00000\n",
       "mean    5441.934848     0.42966\n",
       "std     3137.116090     0.49506\n",
       "min        1.000000     0.00000\n",
       "25%     2734.000000     0.00000\n",
       "50%     5408.000000     0.00000\n",
       "75%     8146.000000     1.00000\n",
       "max    10873.000000     1.00000"
      ]
     },
     "execution_count": 4,
     "metadata": {},
     "output_type": "execute_result"
    }
   ],
   "source": [
    "df_train.describe()"
   ]
  },
  {
   "cell_type": "markdown",
   "metadata": {},
   "source": [
    "Observation :\n",
    "\n",
    "This is a binary classification project, target is whether 0 or 1. The mean for target is ~ 0.43, so the number of examples for each class is different.\n",
    "Let's evaluate the class distribution :"
   ]
  },
  {
   "cell_type": "markdown",
   "metadata": {},
   "source": [
    "# data visualization"
   ]
  },
  {
   "cell_type": "code",
   "execution_count": 5,
   "metadata": {},
   "outputs": [],
   "source": [
    "# data visualization\n",
    "\n",
    "import plotly.express as px\n",
    "import seaborn as sns\n",
    "import matplotlib.pyplot as plt\n",
    "%matplotlib inline\n",
    "\n",
    "#plt.style.use('ggplot')\n",
    "sns.set_theme()"
   ]
  },
  {
   "cell_type": "markdown",
   "metadata": {},
   "source": [
    "### Class distribution"
   ]
  },
  {
   "cell_type": "code",
   "execution_count": 6,
   "metadata": {},
   "outputs": [
    {
     "data": {
      "image/png": "[encoded data removed]",
      "text/plain": [
       "<Figure size 360x360 with 1 Axes>"
      ]
     },
     "metadata": {},
     "output_type": "display_data"
    }
   ],
   "source": [
    "# Class distribution\n",
    "customized_palette = [sns.color_palette()[0], sns.color_palette()[1]] # blue for false disasters and green for real disasters\n",
    "\n",
    "plt.figure(figsize=(5, 5))\n",
    "\n",
    "ax = sns.barplot(x=df_train['target'].value_counts().index,\n",
    "                 y=df_train['target'].value_counts(),\n",
    "                 palette=customized_palette)\n",
    "ax.set(xlabel='target', ylabel='number of examples', title='class distribution')\n",
    "# Other method\n",
    "# plt.gca().set_ylabel('number of examples') # gca = get current axis\n",
    "\n",
    "plt.show()"
   ]
  },
  {
   "cell_type": "code",
   "execution_count": 7,
   "metadata": {},
   "outputs": [
    {
     "data": {
      "text/plain": [
       "0    4342\n",
       "1    3271\n",
       "Name: target, dtype: int64"
      ]
     },
     "execution_count": 7,
     "metadata": {},
     "output_type": "execute_result"
    }
   ],
   "source": [
    "df_train['target'].value_counts()"
   ]
  },
  {
   "cell_type": "markdown",
   "metadata": {},
   "source": [
    "Amongst a total of 7613 tweets, 3271 are about a real disaster (0.43%), and 4342 aren't (0.57%)."
   ]
  },
  {
   "cell_type": "markdown",
   "metadata": {},
   "source": [
    "### Number of characters in tweets"
   ]
  },
  {
   "cell_type": "code",
   "execution_count": 8,
   "metadata": {},
   "outputs": [
    {
     "data": {
      "image/png": "[encoded data removed]",
      "text/plain": [
       "<Figure size 864x360 with 2 Axes>"
      ]
     },
     "metadata": {},
     "output_type": "display_data"
    }
   ],
   "source": [
    "plt.style.use('seaborn')\n",
    "\n",
    "fig,(ax1,ax2)=plt.subplots(1,2,figsize=(12,5))\n",
    "\n",
    "\n",
    "df_tweets_len = df_train[df_train['target']==0]['text'].apply(len) # we use the .apply() method, therefore vectorization, for computational time purposes\n",
    "\n",
    "# other method :\n",
    "# tweet_len=df_train[df_train['target']==0]['text'].str.len()\n",
    "\n",
    "ax1.hist(x=df_tweets_len,\n",
    "         bins=14,\n",
    "         color=customized_palette[0])\n",
    "ax1.set_title('Not disaster tweets')\n",
    "\n",
    "df_tweets_len = df_train[df_train['target']==1]['text'].apply(len)\n",
    "\n",
    "ax2.hist(x=df_tweets_len,\n",
    "         bins=14,\n",
    "         color=customized_palette[1])\n",
    "ax2.set_title('Real disaster tweets')\n",
    "\n",
    "fig.suptitle('Number of characters in tweets')\n",
    "plt.show()"
   ]
  },
  {
   "cell_type": "markdown",
   "metadata": {},
   "source": [
    "Observation :\n",
    "\n",
    "I guess most of the dataset was built when tweets could only contain up to 140 characters, and not 280 like today. (Very few have more than 140 chars, max for not disaster tweets is 157 chars, and max for real disaster tweets is 151 chars)\\\n",
    "The trends are pretty similar for the 2 classes, both having a peak of tweets containing [130,145] characters, close or equal to the max."
   ]
  },
  {
   "cell_type": "markdown",
   "metadata": {},
   "source": [
    "##### Analyzing this [130,145] space"
   ]
  },
  {
   "cell_type": "code",
   "execution_count": 9,
   "metadata": {},
   "outputs": [
    {
     "name": "stdout",
     "output_type": "stream",
     "text": [
      "Amongst 4342 'not disaster tweets', 23.5 % (i.e. 1021 tweets) contain between 130 and 145 characters.\n",
      "Amongst 3271 'real disaster tweets', 34.5 % (i.e. 1130 tweets) contain between 130 and 145 characters.\n"
     ]
    }
   ],
   "source": [
    "df_tweets_len = df_train[df_train['target']==0]['text'].apply(len)\n",
    "df_tweets_140_chars = df_tweets_len[(df_tweets_len>130) & (df_tweets_len<145)]\n",
    "print(\"Amongst {} 'not disaster tweets', {} % (i.e. {} tweets) contain between 130 and 145 characters.\".format(df_tweets_len.shape[0], round((100*df_tweets_140_chars.shape[0]/df_tweets_len.shape[0]),1), df_tweets_140_chars.shape[0]))\n",
    "\n",
    "df_tweets_len = df_train[df_train['target']==1]['text'].apply(len)\n",
    "df_tweets_140_chars = df_tweets_len[(df_tweets_len>130) & (df_tweets_len<145)]\n",
    "print(\"Amongst {} 'real disaster tweets', {} % (i.e. {} tweets) contain between 130 and 145 characters.\".format(df_tweets_len.shape[0], round((100*df_tweets_140_chars.shape[0]/df_tweets_len.shape[0]),1), df_tweets_140_chars.shape[0]))"
   ]
  },
  {
   "cell_type": "markdown",
   "metadata": {},
   "source": [
    "Taking into account the number of samples for each class, 'real disaster tweets' are more likely to contain near or exactly the maximum number of characters allowed than 'not disaster tweets'."
   ]
  },
  {
   "cell_type": "markdown",
   "metadata": {},
   "source": [
    "### Number of words in tweets"
   ]
  },
  {
   "cell_type": "code",
   "execution_count": 10,
   "metadata": {},
   "outputs": [
    {
     "data": {
      "image/png": "[encoded data removed]",
      "text/plain": [
       "<Figure size 864x360 with 2 Axes>"
      ]
     },
     "metadata": {},
     "output_type": "display_data"
    }
   ],
   "source": [
    "plt.style.use('seaborn')\n",
    "\n",
    "fig,(ax1,ax2)=plt.subplots(1,2,figsize=(12,5))\n",
    "\n",
    "df_tweets_len = df_train[df_train['target']==0]['text'].str.split().apply(len)\n",
    "\n",
    "# other method :\n",
    "# df_tweets_len = df_train[df_train['target']==0]['text'].str.split().map(lambda x: len(x))\n",
    "\n",
    "ax1.hist(df_tweets_len, color=customized_palette[0])\n",
    "ax1.set_title('Not disaster tweets')\n",
    "\n",
    "df_tweets_len = df_train[df_train['target']==1]['text'].str.split().apply(len)\n",
    "\n",
    "ax2.hist(df_tweets_len, color=customized_palette[1])\n",
    "ax2.set_title('Real disaster tweets')\n",
    "\n",
    "fig.suptitle('Number of words in tweets')\n",
    "plt.show()"
   ]
  },
  {
   "cell_type": "markdown",
   "metadata": {},
   "source": [
    "Observation :\n",
    "\n",
    "Again, the trends are pretty similar for the 2 classes, with most of the tweets containing [7,22] words."
   ]
  },
  {
   "cell_type": "markdown",
   "metadata": {},
   "source": [
    "### Average length of words in each tweet"
   ]
  },
  {
   "cell_type": "code",
   "execution_count": 11,
   "metadata": {},
   "outputs": [
    {
     "name": "stderr",
     "output_type": "stream",
     "text": [
      "c:\\program files (x86)\\microsoft visual studio\\shared\\python36_64\\lib\\site-packages\\seaborn\\distributions.py:2557: FutureWarning:\n",
      "\n",
      "`distplot` is a deprecated function and will be removed in a future version. Please adapt your code to use either `displot` (a figure-level function with similar flexibility) or `histplot` (an axes-level function for histograms).\n",
      "\n",
      "c:\\program files (x86)\\microsoft visual studio\\shared\\python36_64\\lib\\site-packages\\seaborn\\distributions.py:2557: FutureWarning:\n",
      "\n",
      "`distplot` is a deprecated function and will be removed in a future version. Please adapt your code to use either `displot` (a figure-level function with similar flexibility) or `histplot` (an axes-level function for histograms).\n",
      "\n"
     ]
    },
    {
     "data": {
      "image/png": "[encoded data removed]",
      "text/plain": [
       "<Figure size 1008x432 with 2 Axes>"
      ]
     },
     "metadata": {},
     "output_type": "display_data"
    }
   ],
   "source": [
    "plt.style.use('seaborn')\n",
    "\n",
    "fig,(ax1,ax2)=plt.subplots(1,2,figsize=(14,6))\n",
    "\n",
    "df_len_words = df_train[df_train['target']==0]['text'].str.split().apply(lambda x : [len(i) for i in x])\n",
    "\n",
    "sns.distplot(x=df_len_words.map(lambda x: np.mean(x)),\n",
    "             ax=ax1,\n",
    "             color=customized_palette[0])\n",
    "ax1.set_title('Not disaster tweets')\n",
    "\n",
    "df_len_words = df_train[df_train['target']==1]['text'].str.split().apply(lambda x : [len(i) for i in x])\n",
    "\n",
    "sns.distplot(df_len_words.map(lambda x: np.mean(x)),\n",
    "             ax=ax2,\n",
    "             color=customized_palette[1])\n",
    "ax2.set_title('Real disaster tweets')\n",
    "\n",
    "fig.suptitle('Average length of words in each tweet')\n",
    "plt.show()"
   ]
  },
  {
   "cell_type": "markdown",
   "metadata": {},
   "source": [
    "Observation :\n",
    "\n",
    "The 2 classes show a very slight difference.\\\n",
    "Most of the 'not disaster tweets' contain words having [3,7] characters, while 'real disaster tweets' seem to contain words having [5,7.5] characters.\\\n",
    "Therefore, it seems that the words for the 2nd class are a bit longer."
   ]
  },
  {
   "cell_type": "markdown",
   "metadata": {},
   "source": [
    "##### The mean number of characters among the whole dataset"
   ]
  },
  {
   "cell_type": "code",
   "execution_count": 12,
   "metadata": {},
   "outputs": [
    {
     "name": "stdout",
     "output_type": "stream",
     "text": [
      "In average, a word in a 'not disaster tweet' contains 5.87 characters.\n",
      "In average, a word in a 'real disaster tweet' contains 6.47 characters.\n"
     ]
    }
   ],
   "source": [
    "df_mean_len_words = df_train[df_train['target']==0]['text'].str.split().apply(lambda x : [len(i) for i in x]).map(lambda x: np.mean(x))\n",
    "print(\"In average, a word in a 'not disaster tweet' contains {} characters.\".format(round(df_mean_len_words.mean(),2)))\n",
    "\n",
    "df_mean_len_words = df_train[df_train['target']==1]['text'].str.split().apply(lambda x : [len(i) for i in x]).map(lambda x: np.mean(x))\n",
    "print(\"In average, a word in a 'real disaster tweet' contains {} characters.\".format(round(df_mean_len_words.mean(),2)))"
   ]
  },
  {
   "cell_type": "markdown",
   "metadata": {},
   "source": [
    "Our previous suspicion is verified : in average, the words in the 'real disaster tweets' are longer."
   ]
  },
  {
   "cell_type": "markdown",
   "metadata": {},
   "source": [
    "### Most common stop words"
   ]
  },
  {
   "cell_type": "code",
   "execution_count": 13,
   "metadata": {
    "scrolled": false
   },
   "outputs": [
    {
     "data": {
      "text/plain": [
       "\"\\ndef create_corpus(target):\\n    corpus=[]\\n    \\n    for tweet in df_train[df_train['target']==target]['text'].str.split():\\n        for word in tweet:\\n            corpus.append(word)\\n    return corpus\\n    \\ncorpus_class0 = create_corpus(0)\\n\""
      ]
     },
     "execution_count": 13,
     "metadata": {},
     "output_type": "execute_result"
    }
   ],
   "source": [
    "# It would have been interesting here to create a corpus if we plan to do differents analysis instead of going over the\n",
    "# dataset multiple times.\n",
    "'''\n",
    "def create_corpus(target):\n",
    "    corpus=[]\n",
    "    \n",
    "    for tweet in df_train[df_train['target']==target]['text'].str.split():\n",
    "        for word in tweet:\n",
    "            corpus.append(word)\n",
    "    return corpus\n",
    "    \n",
    "corpus_class0 = create_corpus(0)\n",
    "'''"
   ]
  },
  {
   "cell_type": "code",
   "execution_count": 14,
   "metadata": {},
   "outputs": [
    {
     "name": "stdout",
     "output_type": "stream",
     "text": [
      "Most common stop words in class 0 :\n",
      " {'the': 1524, 'a': 1115, 'to': 1099, 'and': 840, 'of': 834, 'in': 720, 'you': 529, 'is': 512, 'for': 452, 'my': 442}\n",
      "\n",
      "Most common stop words in class 1 :\n",
      " {'the': 1051, 'in': 1037, 'of': 888, 'a': 730, 'to': 706, 'and': 462, 'on': 386, 'for': 368, 'is': 302, 'at': 273}\n"
     ]
    }
   ],
   "source": [
    "import nltk\n",
    "from nltk.corpus import stopwords\n",
    "\n",
    "stop_words = set(stopwords.words('english'))\n",
    "\n",
    "\n",
    "# For class 0 : 'not disaster tweets'\n",
    "\n",
    "dict_stopwords_class0 = {key:0 for key in list(stop_words)}\n",
    "\n",
    "for tweet in df_train[df_train['target']==0]['text'].str.split() :\n",
    "    for word in tweet :\n",
    "        if (word in stop_words) :\n",
    "            dict_stopwords_class0[word] += 1\n",
    "            \n",
    "most_common_stopwords = sorted(dict_stopwords_class0.keys(), key=lambda x : dict_stopwords_class0[x], reverse=True)[:10]\n",
    "\n",
    "dict_stopwords_class0 = {key:dict_stopwords_class0[key] for key in most_common_stopwords}\n",
    "print('Most common stop words in class 0 :\\n', dict_stopwords_class0)\n",
    "\n",
    "\n",
    "# For class 1 : 'real disaster tweets'\n",
    "\n",
    "dict_stopwords_class1 = {key:0 for key in list(stop_words)}\n",
    "\n",
    "for tweet in df_train[df_train['target']==1]['text'].str.split() :\n",
    "    for word in tweet :\n",
    "        if (word in stop_words) :\n",
    "            dict_stopwords_class1[word] += 1\n",
    "            \n",
    "most_common_stopwords = sorted(dict_stopwords_class1.keys(), key=lambda x : dict_stopwords_class1[x], reverse=True)[:10]\n",
    "\n",
    "dict_stopwords_class1 = {key:dict_stopwords_class1[key] for key in most_common_stopwords}\n",
    "print('\\nMost common stop words in class 1 :\\n', dict_stopwords_class1)"
   ]
  },
  {
   "cell_type": "code",
   "execution_count": 15,
   "metadata": {},
   "outputs": [
    {
     "data": {
      "image/png": "[encoded data removed]",
      "text/plain": [
       "<Figure size 720x360 with 1 Axes>"
      ]
     },
     "metadata": {},
     "output_type": "display_data"
    }
   ],
   "source": [
    "plt.figure(figsize=(10, 5))\n",
    "\n",
    "ax = sns.barplot(x=list(dict_stopwords_class0.keys()),\n",
    "                 y=list(dict_stopwords_class0.values()))\n",
    "ax.set(xlabel='stop words', ylabel='occurences', title='Distribution of most common stop words in class 0 : \\'not disaster tweets\\'')\n",
    "\n",
    "plt.show()"
   ]
  },
  {
   "cell_type": "code",
   "execution_count": 16,
   "metadata": {},
   "outputs": [
    {
     "data": {
      "image/png": "[encoded data removed]",
      "text/plain": [
       "<Figure size 720x360 with 1 Axes>"
      ]
     },
     "metadata": {},
     "output_type": "display_data"
    }
   ],
   "source": [
    "plt.figure(figsize=(10, 5))\n",
    "\n",
    "ax = sns.barplot(x=list(dict_stopwords_class1.keys()),\n",
    "                 y=list(dict_stopwords_class1.values()))\n",
    "ax.set(xlabel='stop words', ylabel='occurences', title='Distribution of most common stop words in class 0 : \\'real disaster tweets\\'')\n",
    "\n",
    "plt.show()"
   ]
  },
  {
   "cell_type": "markdown",
   "metadata": {},
   "source": [
    "Observation :\n",
    "\n",
    "'The' dominates the ranking for both classes.\\\n",
    "Stop words are usually considered as meaningless data: not containing useful information to help classifying the tweets.\\\n",
    "Removing them also improves the processing time.\\\n",
    "We will see how we deal with them further in the notebook."
   ]
  },
  {
   "cell_type": "markdown",
   "metadata": {},
   "source": [
    "### Homemade preprocessing analysis"
   ]
  },
  {
   "cell_type": "code",
   "execution_count": 17,
   "metadata": {},
   "outputs": [
    {
     "name": "stdout",
     "output_type": "stream",
     "text": [
      "Corrections in class 0 :\n",
      " {'tag': 1798, 'hashtag': 1683, 'laughs': 47, 'smileys': 14, 'extensions': 0, 'website': 2196, 'time': 40, 'date': 3, 'mail': 1}\n",
      "\n",
      "Corrections in class 1 :\n",
      " {'tag': 872, 'hashtag': 1691, 'laughs': 14, 'smileys': 4, 'extensions': 0, 'website': 2510, 'time': 92, 'date': 20, 'mail': 0}\n"
     ]
    }
   ],
   "source": [
    "from homemade_preprocessing import Tokenizer\n",
    "\n",
    "# For class 0 : 'not disaster tweets'\n",
    "\n",
    "corrections_class0 = Tokenizer()\n",
    "\n",
    "for tweet in df_train[df_train['target']==0]['text'].str.split() :\n",
    "    for word in tweet :\n",
    "        corrections_class0.test_word(word)\n",
    "\n",
    "print('Corrections in class 0 :\\n', corrections_class0._result)\n",
    "\n",
    "\n",
    "# For class 1 : 'real disaster tweets'\n",
    "\n",
    "corrections_class1 = Tokenizer()\n",
    "\n",
    "for tweet in df_train[df_train['target']==1]['text'].str.split() :\n",
    "    for word in tweet :\n",
    "        corrections_class1.test_word(word)\n",
    "\n",
    "print('\\nCorrections in class 1 :\\n', corrections_class1._result)"
   ]
  },
  {
   "cell_type": "code",
   "execution_count": 18,
   "metadata": {},
   "outputs": [
    {
     "data": {
      "image/png": "[encoded data removed]",
      "text/plain": [
       "<Figure size 720x360 with 1 Axes>"
      ]
     },
     "metadata": {},
     "output_type": "display_data"
    }
   ],
   "source": [
    "plt.figure(figsize=(10, 5))\n",
    "\n",
    "ax = sns.barplot(x=list(corrections_class0._result.keys()),\n",
    "                 y=list(corrections_class0._result.values()))\n",
    "ax.set(xlabel='corrections', ylabel='occurences', title='Distribution of the corrections made for class 0 : \\'not disaster tweets\\'')\n",
    "ax.set_xticklabels(list(corrections_class0._result.keys()), rotation=30)\n",
    "\n",
    "plt.show()"
   ]
  },
  {
   "cell_type": "code",
   "execution_count": 19,
   "metadata": {},
   "outputs": [
    {
     "data": {
      "image/png": "[encoded data removed]",
      "text/plain": [
       "<Figure size 720x360 with 1 Axes>"
      ]
     },
     "metadata": {},
     "output_type": "display_data"
    }
   ],
   "source": [
    "plt.figure(figsize=(10, 5))\n",
    "\n",
    "ax = sns.barplot(x=list(corrections_class1._result.keys()),\n",
    "                 y=list(corrections_class1._result.values()))\n",
    "ax.set(xlabel='corrections', ylabel='occurences', title='Distribution of the corrections made for class 1 : \\'real disaster tweets\\'')\n",
    "ax.set_xticklabels(list(corrections_class1._result.keys()), rotation=30)\n",
    "\n",
    "plt.show()"
   ]
  },
  {
   "cell_type": "markdown",
   "metadata": {},
   "source": [
    "Observations :\n",
    "\n",
    "The corrections may vary a bit depending on the tokenization method we adopt. The homemade_preprocessing script was built for a tokenization using the .split() method, which considers 'fire.' as 1 token, while word_tokenization() from nltk or SpaCy would consider 2 tokens 'fire' and '.' .\\\n",
    "We can see that a lot of tweets contain tags (ex : '@johnHarris'), hashtags (ex : #blablabla) and websites (ex : http://t.co/gibberish). \\\n",
    "No corrections seem to be very different from a class to another, except maybe for tags that seem to appear more often in class 0, and websites that seem to appear more often in real disasters, which could make sense : users would want to link more 'reliable' sources to their tweets claiming a disaster is going on.<br><br>\n",
    "Some other minor corrections were made, like laughs (ex : hahaha) (see the homemade_preprocessing.py file for more details)."
   ]
  },
  {
   "cell_type": "markdown",
   "metadata": {},
   "source": [
    "### Most common words"
   ]
  },
  {
   "cell_type": "code",
   "execution_count": 20,
   "metadata": {},
   "outputs": [],
   "source": [
    "from collections import  Counter\n",
    "\n",
    "def create_corpus(target):\n",
    "    corpus = []\n",
    "    \n",
    "    for tweet in (df_train[df_train['target']==target]['text'].str.split()) :\n",
    "        for word in tweet:\n",
    "            corpus.append(word)\n",
    "    return corpus\n",
    "    \n",
    "corpus_class0 = create_corpus(0)\n",
    "\n",
    "counter = Counter(corpus_class0)\n",
    "counter_most_common = counter.most_common()\n",
    "\n",
    "x = []\n",
    "y = []\n",
    "i = 0\n",
    "while len(x)<10 :\n",
    "    word = counter_most_common[i][0]\n",
    "    count = counter_most_common[i][1]\n",
    "    if (word not in stop_words) :\n",
    "        x.append(word)\n",
    "        y.append(count)\n",
    "    i+=1"
   ]
  },
  {
   "cell_type": "code",
   "execution_count": 21,
   "metadata": {},
   "outputs": [
    {
     "data": {
      "image/png": "[encoded data removed]",
      "text/plain": [
       "<Figure size 576x396 with 1 Axes>"
      ]
     },
     "metadata": {},
     "output_type": "display_data"
    }
   ],
   "source": [
    "ax = sns.barplot(x=y, y=x)\n",
    "ax.set(xlabel='occurences', ylabel='words', title='Most common words not being stop words in class 0')\n",
    "\n",
    "plt.show()"
   ]
  },
  {
   "cell_type": "markdown",
   "metadata": {},
   "source": [
    "### Most common bi-grams"
   ]
  },
  {
   "cell_type": "code",
   "execution_count": 22,
   "metadata": {},
   "outputs": [
    {
     "data": {
      "text/plain": [
       "\"\\nOther method from internet, using CountVectorizer() from sklearn (not tested) :\\n\\nfrom sklearn.feature_extraction.text import CountVectorizer\\n\\ndef get_top_tweet_bigrams(corpus, n=None):\\n    vec = CountVectorizer(ngram_range=(2, 2)).fit(corpus) # corpus of single words\\n    bag_of_words = vec.transform(corpus)\\n    sum_words = bag_of_words.sum(axis=0) \\n    words_freq = [(word, sum_words[0, idx]) for word, idx in vec.vocabulary_.items()]\\n    words_freq =sorted(words_freq, key = lambda x: x[1], reverse=True)\\n    return words_freq[:n]\\n\\nplt.figure(figsize=(10,5))\\ntop_tweet_bigrams=get_top_tweet_bigrams(tweet['text'])[:10]\\nx,y=map(list,zip(*top_tweet_bigrams))\\nsns.barplot(x=y,y=x)\\n\""
      ]
     },
     "execution_count": 22,
     "metadata": {},
     "output_type": "execute_result"
    }
   ],
   "source": [
    "def create_corpus_bigrams(target):\n",
    "    corpus = []\n",
    "    \n",
    "    for tweet in (df_train[df_train['target']==target]['text'].str.split()) :\n",
    "        for i in range (len(tweet) - 1) :\n",
    "            corpus.append( (tweet[i],tweet[i+1]) )\n",
    "    return corpus\n",
    "    \n",
    "corpus_bigrams_class0 = create_corpus_bigrams(0)\n",
    "\n",
    "counter = Counter(corpus_bigrams_class0)\n",
    "counter_most_common = counter.most_common()\n",
    "\n",
    "x = []\n",
    "y = []\n",
    "i = 0\n",
    "while len(x)<10 :\n",
    "    bigram = counter_most_common[i][0]\n",
    "    count = counter_most_common[i][1]\n",
    "    if (bigram[0] not in stop_words) or (bigram[1] not in stop_words) :\n",
    "        x.append(bigram[0] + ' ' + bigram[1])\n",
    "        y.append(count)\n",
    "    i+=1\n",
    "\n",
    "'''\n",
    "Other method from internet, using CountVectorizer() from sklearn (not tested) :\n",
    "\n",
    "from sklearn.feature_extraction.text import CountVectorizer\n",
    "\n",
    "def get_top_tweet_bigrams(corpus, n=None):\n",
    "    vec = CountVectorizer(ngram_range=(2, 2)).fit(corpus) # corpus of single words\n",
    "    bag_of_words = vec.transform(corpus)\n",
    "    sum_words = bag_of_words.sum(axis=0) \n",
    "    words_freq = [(word, sum_words[0, idx]) for word, idx in vec.vocabulary_.items()]\n",
    "    words_freq =sorted(words_freq, key = lambda x: x[1], reverse=True)\n",
    "    return words_freq[:n]\n",
    "\n",
    "plt.figure(figsize=(10,5))\n",
    "top_tweet_bigrams=get_top_tweet_bigrams(tweet['text'])[:10]\n",
    "x,y=map(list,zip(*top_tweet_bigrams))\n",
    "sns.barplot(x=y,y=x)\n",
    "'''"
   ]
  },
  {
   "cell_type": "code",
   "execution_count": 23,
   "metadata": {},
   "outputs": [
    {
     "data": {
      "image/png": "[encoded data removed]",
      "text/plain": [
       "<Figure size 576x396 with 1 Axes>"
      ]
     },
     "metadata": {},
     "output_type": "display_data"
    }
   ],
   "source": [
    "ax = sns.barplot(x=y, y=x)\n",
    "ax.set(xlabel='occurences', ylabel='bigrams', title='Most common bigrams not containing two stop words in class 0')\n",
    "\n",
    "plt.show()"
   ]
  },
  {
   "cell_type": "markdown",
   "metadata": {},
   "source": [
    "______________"
   ]
  },
  {
   "cell_type": "markdown",
   "metadata": {},
   "source": [
    "### Class distribution among the different keywords"
   ]
  },
  {
   "cell_type": "code",
   "execution_count": null,
   "metadata": {
    "scrolled": false
   },
   "outputs": [],
   "source": [
    "dico = dict(zip(df_train['keyword'].unique() , np.arange(len(df_train['keyword'].unique()))))\n",
    "dico_mapping_keywords = dict(zip(np.arange(len(df_train['keyword'].unique())) , df_train['keyword'].unique()))\n",
    "\n",
    "arr=[]\n",
    "for i in range (len(df_train)):\n",
    "    arr.append(dico[df_train.iloc[i]['keyword']])\n",
    "    \n",
    "df = pd.DataFrame(data={'keyword_str':df_train['keyword'] , 'keyword':np.array(arr) , 'target':df_train['target']})\n",
    "\n",
    "\n",
    "\n",
    "dist = []\n",
    "for ind in (list(dico.keys())[1:21]) :\n",
    "    dist_int = list(df[df['keyword_str'] == ind]['target'].value_counts(normalize=True))\n",
    "    if (len(dist_int) == 1):\n",
    "        dist_int.append(0)\n",
    "    dist.append( dist_int[0] )\n",
    "    dist.append( dist_int[1] )\n",
    "\n",
    "df = pd.DataFrame(data={'keyword':np.array([[a,a] for a in list(dico.keys())[1:21] ]).reshape(40) , 'target':[0,1]*20 , 'distrib':dist})\n",
    "#print(df)\n",
    "plt.figure(figsize=(16, 6))\n",
    "ax = sns.barplot(x=\"keyword\", y=\"distrib\", hue=\"target\", data=df)\n",
    "ax.set_xticklabels(list(dico.keys())[1:21], rotation=30)\n",
    "\n",
    "plt.show()"
   ]
  },
  {
   "cell_type": "markdown",
   "metadata": {},
   "source": [
    "We're now going to build our own test set so we don't need to submit to Kaggle to have an overview of our model performances.\n",
    "We only have 7613 example, so we'll take 20% of our train set."
   ]
  },
  {
   "cell_type": "code",
   "execution_count": null,
   "metadata": {},
   "outputs": [],
   "source": [
    "X = df_train.drop('target', axis=1)\n",
    "y = df_train['target']\n",
    "\n",
    "X_train, X_test, y_train, y_test = train_test_split(X, y, test_size=0.2, random_state=42)\n",
    "X_train.head()"
   ]
  },
  {
   "cell_type": "markdown",
   "metadata": {},
   "source": [
    "We now have 6090 examples for our train set, and 1523 examples for the test set."
   ]
  },
  {
   "cell_type": "code",
   "execution_count": null,
   "metadata": {},
   "outputs": [],
   "source": [
    "'''\n",
    "# Preprocessing\n",
    "\n",
    "from nltk.tokenize import word_tokenize\n",
    "# nltk.download('punkt')\n",
    "\n",
    "nlp = spacy.load(\"en_core_web_md\", disable=[\"parser\", \"ner\"])\n",
    "\n",
    "homemade_tokenizer = Tokenizer()\n",
    "\n",
    "for i in range (len(X_train)):\n",
    "    if (i%1000 == 0):\n",
    "        print(i, 'off', len(X_train))\n",
    "    tweet = X_train.iloc[i]['text']\n",
    "    \n",
    "    # 1. lowercase (to reduce the vocabulary size)\n",
    "    \n",
    "    tweet = tweet.lower()\n",
    "    \n",
    "    \n",
    "    # 2. remove stop words using list from nltk (considered as useless data and to improve processing time)\n",
    "    \n",
    "    tweet_split_processed = [word for word in tweet.split() if not word in stop_words]\n",
    "    #tweet = ' '.join(tweet_split_processed)\n",
    "    \n",
    "    # 3. lemmatization using spacy\n",
    "    \n",
    "    for j in range (len(tweet_split_processed)) :\n",
    "        doc = nlp(tweet_split_processed[j])\n",
    "        for token in doc:\n",
    "            if (token.text != token.lemma_) :\n",
    "                tweet_split_processed[j] = token.lemma_\n",
    "        \n",
    "        # 4. homemade preprocessing to identify websites, hashtags, person tags, etc.\n",
    "        \n",
    "        tweet_split_processed[j] = homemade_tokenizer.test_word(tweet_split_processed[j])\n",
    "        \n",
    "    \n",
    "    # add changes to dataset\n",
    "    X_train.at[X_train.index[i],'text'] = ' '.join(tweet_split_processed)\n",
    "\n",
    "   \n",
    "    \n",
    "#TODO : homemade_tokenizer se fait sur le tweet.split() et non après tokenization --> moins efficace ?\n",
    "#       lemmatization sur tokenization peut créer des problemes quand len(tweet_split_processed[j]) != len(doc). Ex '1945.'\n",
    "#       Example concret dans 2ème tweet ou 'flames.' devient 'flame', pareil 4eme tweet 'you?' devient '-PRON-'\n",
    "\n",
    "                \n",
    "    #print(' '.join(tweet_split_processed))\n",
    "    #print('\\n\\n')\n",
    "'''"
   ]
  },
  {
   "cell_type": "code",
   "execution_count": null,
   "metadata": {},
   "outputs": [],
   "source": [
    "X_train.head(15)"
   ]
  },
  {
   "cell_type": "code",
   "execution_count": null,
   "metadata": {
    "scrolled": false
   },
   "outputs": [],
   "source": [
    "# Create features set (vectorization)\n",
    "\n",
    "from sklearn.feature_extraction.text import TfidfVectorizer\n",
    "\n",
    "tfidf_vectorizer = TfidfVectorizer(lowercase=False, use_idf=True, ngram_range=(1,1))\n",
    "X_train_features = tfidf_vectorizer.fit_transform(X_train['text'])\n",
    "\n",
    "tfidf_vectorizer_test = TfidfVectorizer(lowercase=False, use_idf=True, ngram_range=(1,1), vocabulary=tfidf_vectorizer.vocabulary_)\n",
    "X_test_features = tfidf_vectorizer_test.fit_transform(X_test['text'])\n",
    "\n",
    "print('vocabulary size : ', len(tfidf_vectorizer.vocabulary_))"
   ]
  },
  {
   "cell_type": "code",
   "execution_count": null,
   "metadata": {},
   "outputs": [],
   "source": [
    "# Define and train classifier + prediction\n",
    "\n",
    "from sklearn.linear_model import LogisticRegression\n",
    "\n",
    "clf = LogisticRegression(solver='liblinear', random_state=42)\n",
    "clf.fit(X_train_features.toarray(), y_train)\n",
    "y_pred = clf.predict(X_test_features.toarray())\n",
    "\n",
    "f1_score(y_test, y_pred)"
   ]
  },
  {
   "cell_type": "code",
   "execution_count": null,
   "metadata": {},
   "outputs": [],
   "source": [
    "# Most valued features by the LogReg classifier\n",
    "\n",
    "print('LogReg params : \\n', clf.get_params(), '\\n')\n",
    "\n",
    "arr = np.reshape(clf.coef_, clf.coef_.shape[1])\n",
    "n = 10\n",
    "arr_n_indexes = np.argsort(arr)[-n:][::-1]\n",
    "\n",
    "for i in range (n) :\n",
    "    print(tfidf_vectorizer.get_feature_names()[arr_n_indexes[i]], arr[arr_n_indexes[i]])\n"
   ]
  },
  {
   "cell_type": "code",
   "execution_count": null,
   "metadata": {},
   "outputs": [],
   "source": [
    "'''\n",
    "# Prediction on test set + csv\n",
    "\n",
    "tfidf_vectorizer_testset = TfidfVectorizer(lowercase=False, use_idf=True, ngram_range=(1,1), vocabulary=tfidf_vectorizer.vocabulary_)\n",
    "X_testset_features = tfidf_vectorizer_testset.fit_transform(df_test['text'])\n",
    "\n",
    "y_pred_testset = clf.predict(X_testset_features.toarray())\n",
    "\n",
    "df_submission = pd.DataFrame(data={'id':df_test['id'], 'target':y_pred_testset})\n",
    "df_submission.to_csv('Tfidf_+_LogReg.csv', index=False)\n",
    "'''"
   ]
  },
  {
   "cell_type": "code",
   "execution_count": null,
   "metadata": {},
   "outputs": [],
   "source": [
    "from sklearn.ensemble import RandomForestClassifier\n",
    "\n",
    "clf = RandomForestClassifier(random_state=42)\n",
    "clf.fit(X_train_features.toarray(), y_train)\n",
    "y_pred = clf.predict(X_test_features.toarray())\n",
    "print(y_pred)\n",
    "\n",
    "f1_score(y_test, y_pred)"
   ]
  },
  {
   "cell_type": "code",
   "execution_count": null,
   "metadata": {},
   "outputs": [],
   "source": [
    "from sklearn.svm import SVC\n",
    "\n",
    "clf = SVC(random_state=42)\n",
    "clf.fit(X_train_features.toarray(), y_train)\n",
    "y_pred = clf.predict(X_test_features.toarray())\n",
    "print(y_pred)\n",
    "\n",
    "f1_score(y_test, y_pred)"
   ]
  },
  {
   "cell_type": "code",
   "execution_count": null,
   "metadata": {},
   "outputs": [],
   "source": [
    "from sklearn.neural_network import MLPClassifier\n",
    "\n",
    "#clf = MLPClassifier(hidden_layer_sizes=(10, 128, 2), random_state=42, max_iter=300)\n",
    "clf = MLPClassifier(hidden_layer_sizes=(5,), random_state=42, max_iter=10)\n",
    "clf.fit(X_train_features.toarray(), y_train)\n",
    "y_pred = clf.predict(X_test_features.toarray())\n",
    "print(y_pred)\n",
    "\n",
    "f1_score(y_test, y_pred)"
   ]
  },
  {
   "cell_type": "code",
   "execution_count": null,
   "metadata": {},
   "outputs": [],
   "source": [
    "# baseline\n",
    "\n",
    "y_pred = np.random.randint(2, size=len(y_test))\n",
    "f1_score(y_test, y_pred)"
   ]
  }
 ],
 "metadata": {
  "kernelspec": {
   "display_name": "Python 3",
   "language": "python",
   "name": "python3"
  },
  "language_info": {
   "codemirror_mode": {
    "name": "ipython",
    "version": 3
   },
   "file_extension": ".py",
   "mimetype": "text/x-python",
   "name": "python",
   "nbconvert_exporter": "python",
   "pygments_lexer": "ipython3",
   "version": "3.6.6"
  }
 },
 "nbformat": 4,
 "nbformat_minor": 2
}
